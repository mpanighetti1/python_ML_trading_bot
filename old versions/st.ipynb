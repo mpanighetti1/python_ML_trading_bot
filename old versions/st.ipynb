{
 "cells": [
  {
   "cell_type": "code",
   "execution_count": 1,
   "metadata": {},
   "outputs": [],
   "source": [
    "######################## Imports #############################\n",
    "\n",
    "# Python Imports\n",
    "import time\n",
    "from tqdm import tqdm\n",
    "import warnings\n",
    "\n",
    "import pandas as pd\n",
    "import numpy as np\n",
    "import datetime\n",
    "from collections import namedtuple\n",
    "\n",
    "# Numba Imports\n",
    "from numba import njit\n",
    "from numba import prange\n",
    "\n",
    "# Plotting Imports\n",
    "import plotly.graph_objects as go\n",
    "from plotly import offline\n",
    "\n",
    "# Machine Learning Imports\n",
    "import optuna as opt\n",
    "\n",
    "# Trading Imports\n",
    "import talib\n",
    "import vectorbtpro as vbt\n",
    "\n",
    "# Optuna Visualizations\n",
    "from optuna.visualization import plot_contour\n",
    "from optuna.visualization import plot_edf\n",
    "from optuna.visualization import plot_intermediate_values\n",
    "from optuna.visualization import plot_optimization_history\n",
    "from optuna.visualization import plot_parallel_coordinate\n",
    "from optuna.visualization import plot_param_importances\n",
    "from optuna.visualization import plot_slice"
   ]
  },
  {
   "cell_type": "code",
   "execution_count": 2,
   "metadata": {},
   "outputs": [
    {
     "data": {
      "text/plain": [
       "\"\\n##################### Data Gathering #########################\\n\\n# Define column names\\ncolumn_names = ['Gmt time', 'Open', 'High', 'Low', 'Close', 'Volume']\\n\\n# Fetch Locally Saved Data (1 minute)\\nm1_data = pd.read_csv('data/Dukascopy/EURUSD_Candlestick_1_M_BID_07.01.2023-07.07.2023.csv', \\n                      delimiter=',',  # Data is comma-separated\\n                      names=column_names,  # Add column names\\n                      skiprows=1)  # Skip the first row (column names)\\n\\n# Convert 'Gmt time' to datetime and set it as index\\nm1_data['Gmt time'] = pd.to_datetime(m1_data['Gmt time'], format='%d.%m.%Y %H:%M:%S.%f')\\nm1_data.set_index('Gmt time', inplace=True)\\n\\n# Ensure index is a DatetimeIndex\\nm1_data.index = pd.DatetimeIndex(m1_data.index.values)\\n\\n# Rename index\\nm1_data.index.name = 'Open time'\\n\\n# Set data for vectorbt\\nm1_data = vbt.Data.from_data({'EURUSD': m1_data})\\n\""
      ]
     },
     "execution_count": 2,
     "metadata": {},
     "output_type": "execute_result"
    }
   ],
   "source": [
    "'''\n",
    "##################### Data Gathering #########################\n",
    "\n",
    "# Define column names\n",
    "column_names = ['Gmt time', 'Open', 'High', 'Low', 'Close', 'Volume']\n",
    "\n",
    "# Fetch Locally Saved Data (1 minute)\n",
    "m1_data = pd.read_csv('data/Dukascopy/EURUSD_Candlestick_1_M_BID_07.01.2023-07.07.2023.csv', \n",
    "                      delimiter=',',  # Data is comma-separated\n",
    "                      names=column_names,  # Add column names\n",
    "                      skiprows=1)  # Skip the first row (column names)\n",
    "\n",
    "# Convert 'Gmt time' to datetime and set it as index\n",
    "m1_data['Gmt time'] = pd.to_datetime(m1_data['Gmt time'], format='%d.%m.%Y %H:%M:%S.%f')\n",
    "m1_data.set_index('Gmt time', inplace=True)\n",
    "\n",
    "# Ensure index is a DatetimeIndex\n",
    "m1_data.index = pd.DatetimeIndex(m1_data.index.values)\n",
    "\n",
    "# Rename index\n",
    "m1_data.index.name = 'Open time'\n",
    "\n",
    "# Set data for vectorbt\n",
    "m1_data = vbt.Data.from_data({'EURUSD': m1_data})\n",
    "'''"
   ]
  },
  {
   "cell_type": "code",
   "execution_count": 3,
   "metadata": {},
   "outputs": [],
   "source": [
    "##################### Data Gathering #########################\n",
    "\n",
    "# Define column names\n",
    "column_names = ['Gmt time', 'Open', 'High', 'Low', 'Close', 'Volume']\n",
    "\n",
    "# Fetch Locally Saved Data (1 minute)\n",
    "m1_data = pd.read_csv('data/forexsb/EURUSD1.csv', \n",
    "                      delimiter='\\t',  # Data is comma-separated\n",
    "                      names=column_names)\n",
    "\n",
    "# Remove unwanted characters\n",
    "m1_data['Gmt time'] = m1_data['Gmt time'].str.replace('\\t', '')\n",
    "\n",
    "# Convert 'Gmt time' to datetime\n",
    "m1_data['Gmt time'] = pd.to_datetime(m1_data['Gmt time'], format='%Y-%m-%d %H:%M')\n",
    "\n",
    "# Set 'Gmt time' as the index\n",
    "m1_data.set_index('Gmt time', inplace=True)\n",
    "\n",
    "# Ensure index is a DatetimeIndex\n",
    "m1_data.index = pd.DatetimeIndex(m1_data.index.values)\n",
    "\n",
    "# Rename index\n",
    "m1_data.index.name = 'Open time'\n",
    "\n",
    "# Set data for vectorbt\n",
    "m1_data = vbt.Data.from_data({'EURUSD': m1_data})"
   ]
  },
  {
   "cell_type": "code",
   "execution_count": 4,
   "metadata": {},
   "outputs": [],
   "source": [
    "## 1m data\n",
    "m1_open_raw  = m1_data.get('Open')\n",
    "m1_high_raw  = m1_data.get('High')\n",
    "m1_low_raw   = m1_data.get('Low')\n",
    "m1_close_raw = m1_data.get('Close')\n",
    "\n",
    "# Continuous indexing for 1m data\n",
    "m1_open  = m1_open_raw.resample('1T').interpolate()\n",
    "m1_high  = m1_high_raw.resample('1T').interpolate()\n",
    "m1_low   = m1_low_raw.resample('1T').interpolate()\n",
    "m1_close = m1_close_raw.resample('1T').interpolate()\n",
    "\n",
    "# Continuous indexing for 15m data\n",
    "m15_open = m1_close.resample('15T').first()\n",
    "m15_high = m1_high.resample('15T').max()\n",
    "m15_low = m1_low.resample('15T').min()\n",
    "m15_close = m1_close.resample('15T').last()\n",
    "\n",
    "# Continuous indexing for 1h data\n",
    "h1_open = m1_open.resample('60T').first()\n",
    "h1_high = m1_high.resample('60T').max()\n",
    "h1_low = m1_low.resample('60T').min()\n",
    "h1_close = m1_close.resample('60T').last()"
   ]
  },
  {
   "cell_type": "code",
   "execution_count": 5,
   "metadata": {},
   "outputs": [],
   "source": [
    "##################### Indicator Functions #######################\n",
    "\n",
    "####### SuperTrend Indicator Helper Functions ###################\n",
    "def st_get_basic_bands(high, low, close, st_multiplier, st_period):\n",
    "    st_medprice = vbt.talib('MEDPRICE').run(high, low, skipna=True).real.to_numpy().astype(np.float64)\n",
    "    st_atr = vbt.talib('ATR').run(high, low, close, timeperiod=st_period, skipna=True).real.to_numpy().astype(np.float64)\n",
    "    st_basic_upper, st_basic_lower = st_get_basic_bands_nb(st_atr, st_medprice, st_multiplier, st_period)\n",
    "    return st_basic_upper, st_basic_lower\n",
    "\n",
    "@njit(nogil=True)\n",
    "def st_get_basic_bands_nb(st_atr, st_medprice, st_multiplier, st_period):\n",
    "    st_matr = st_multiplier * st_atr\n",
    "    st_basic_upper = st_medprice + st_matr\n",
    "    st_basic_lower = st_medprice - st_matr\n",
    "    return st_basic_upper, st_basic_lower\n",
    "\n",
    "@njit(nogil=True)\n",
    "def st_get_final_bands(close, st_basic_upper, st_basic_lower): \n",
    "    \n",
    "    st_trend = np.full(close.shape, np.nan)  \n",
    "    st_dir = np.full(close.shape, 1)\n",
    "    st_long = np.full(close.shape, np.nan)\n",
    "    st_short = np.full(close.shape, np.nan)\n",
    "    \n",
    "    for i in range(1, close.shape[0]):\n",
    "        if close[i] > st_basic_upper[i - 1]:\n",
    "            st_dir[i] = 1\n",
    "        elif close[i] < st_basic_lower[i - 1]:\n",
    "            st_dir[i] = -1\n",
    "        else:\n",
    "            st_dir[i] = st_dir[i - 1]\n",
    "            if st_dir[i] > 0 and st_basic_lower[i] < st_basic_lower[i - 1]:\n",
    "                st_basic_lower[i] = st_basic_lower[i - 1]\n",
    "            if st_dir[i] < 0 and st_basic_upper[i] > st_basic_upper[i - 1]:\n",
    "                st_basic_upper[i] = st_basic_upper[i - 1]\n",
    "        if st_dir[i] > 0:\n",
    "            st_trend[i] = st_long[i] = st_basic_lower[i]\n",
    "        else:\n",
    "            st_trend[i] = st_short[i] = st_basic_upper[i]    \n",
    "    return st_trend, st_dir, st_long, st_short \n",
    "\n"
   ]
  },
  {
   "cell_type": "code",
   "execution_count": 6,
   "metadata": {},
   "outputs": [],
   "source": [
    "#################### Clean Signals ############################\n",
    "\n",
    "@njit(nogil=True, parallel=True)\n",
    "def clean_signals_nb(m1_high_np, m1_low_np, m1_open_np, st_dir_m1):  \n",
    "    \n",
    "    # Initialize signal arrays\n",
    "    long_entry = np.full_like(m1_open_np, False, dtype=np.bool_)\n",
    "    long_exit = np.full_like(m1_open_np, False, dtype=np.bool_)\n",
    "    \n",
    "    short_entry = np.full_like(m1_open_np, False, dtype=np.bool_)\n",
    "    short_exit = np.full_like(m1_open_np, False, dtype=np.bool_)\n",
    "    \n",
    "    for col in prange(m1_open_np.shape[1]):\n",
    "\n",
    "        for i in range(m1_open_np.shape[0]):\n",
    "\n",
    "            ######################## LONGS ############################\n",
    "\n",
    "            # Long Entries\n",
    "            if (st_dir_m1[i, col] == 1.0 and st_dir_m1[i - 1, col] == -1.0):\n",
    "                short_exit[i, col] = True\n",
    "                long_entry[i, col] = True\n",
    "\n",
    "            ######################## SHORTS ############################\n",
    "            \n",
    "            # Short Entries\n",
    "            if (st_dir_m1[i, col] == -1.0 and st_dir_m1[i - 1, col] == 1.0):\n",
    "                long_exit[i, col] = True\n",
    "                short_entry[i, col] = True\n",
    "           \n",
    "            \n",
    "    # Returns\n",
    "    return long_entry, long_exit, short_entry, short_exit"
   ]
  },
  {
   "cell_type": "code",
   "execution_count": 7,
   "metadata": {},
   "outputs": [],
   "source": [
    "######################### SuperTrend Indicator ############################\n",
    "\n",
    "expr = \"\"\"\n",
    "SuperTrend[st]:\n",
    "\n",
    "# SuperTrend Indicator\n",
    "basic_upper, basic_lower = st_get_basic_bands(@in_h1_high, @in_h1_low, @in_h1_close, @p_st_multiplier, @p_st_period)\n",
    "trend, dir, long, short = st_get_final_bands(@in_h1_close, basic_upper, basic_lower)\n",
    "\n",
    "# Returns\n",
    "trend, dir, long, short\n",
    "\n",
    "\"\"\"\n",
    "\n",
    "SuperTrend = vbt.IF.from_expr(\n",
    "    expr,\n",
    "    takes_1d=True,\n",
    "\n",
    "    # SuperTrend Indicator\n",
    "    st_period=7,\n",
    "    st_multiplier=5,\n",
    "    st_get_basic_bands=st_get_basic_bands,\n",
    "    st_get_final_bands=st_get_final_bands,\n",
    ")"
   ]
  },
  {
   "cell_type": "code",
   "execution_count": 8,
   "metadata": {},
   "outputs": [
    {
     "data": {
      "application/vnd.jupyter.widget-view+json": {
       "model_id": "c796f74940a34e299ede8c57e9c4e849",
       "version_major": 2,
       "version_minor": 0
      },
      "text/plain": [
       "  0%|          | 0/1 [00:00<?, ?it/s]"
      ]
     },
     "metadata": {},
     "output_type": "display_data"
    }
   ],
   "source": [
    "st_multiplier = 2.0 #trial.suggest_float(\"st_multiplier\", 1.0, 20.0, step=0.1) \n",
    "st_period = 200 #trial.suggest_int(\"st_period\", 2, 1000)\n",
    "\n",
    "st = SuperTrend.run(h1_high, h1_low, h1_close, # calls h1_high, h1_low, h1_close\n",
    "                    st_multiplier=st_multiplier,\n",
    "                    st_period=st_period,                        \n",
    "                    execute_kwargs=dict(                                        \n",
    "                                    engine='dask',\n",
    "                                    chunk_len='auto',\n",
    "                                    show_progress=True\n",
    "                                    ))"
   ]
  },
  {
   "cell_type": "code",
   "execution_count": 9,
   "metadata": {},
   "outputs": [],
   "source": [
    "##################### Ensure 2-Dim Arrays #######################\n",
    "\n",
    "def ensure_2d(arr):\n",
    "    if arr.ndim == 1:\n",
    "        return arr.reshape(-1, 1)\n",
    "    return arr"
   ]
  },
  {
   "cell_type": "code",
   "execution_count": 10,
   "metadata": {},
   "outputs": [],
   "source": [
    "######################## Resample Everything To 1 Min ##########################\n",
    "\n",
    "# Use some placeholder value\n",
    "placeholder = -99999\n",
    "\n",
    "#################### Nan to Placeholder ########################\n",
    "\n",
    "st_dir = st.dir.fillna(placeholder)\n",
    "st_long = st.long.fillna(placeholder)\n",
    "st_short = st.short.fillna(placeholder)\n",
    "\n",
    "#################### Reindex To 1 Min ##########################\n",
    "\n",
    "st_dir_m1 = st_dir.reindex(m1_open.index).ffill()\n",
    "st_dir_m1 = st_dir_m1.bfill()\n",
    "st_long_m1 = st_long.reindex(m1_open.index).ffill()\n",
    "st_long_m1 = st_long_m1.bfill()\n",
    "st_short_m1 = st_short.reindex(m1_open.index).ffill()\n",
    "st_short_m1 = st_short_m1.bfill()\n",
    "\n",
    "#################### Placeholder To NaN ########################\n",
    "\n",
    "st_dir_m1 = st_dir_m1.replace(placeholder, np.nan)\n",
    "st_short_m1 = st_short_m1.replace(placeholder, np.nan)\n",
    "st_long_m1 = st_long_m1.replace(placeholder, np.nan)    \n",
    "\n",
    "#################### Convert to Numpy ##########################\n",
    "\n",
    "st_dir_m1 = st_dir_m1.to_numpy()\n",
    "\n",
    "#################### 1 Minute OHLC Data ########################\n",
    "\n",
    "m1_open_np = m1_open.to_numpy()\n",
    "m1_high_np = m1_high.to_numpy()\n",
    "m1_low_np = m1_low.to_numpy()\n",
    "m1_close_np = m1_close.to_numpy()\n",
    "\n",
    "################### Ensure 2-Dim Array #########################\n",
    "\n",
    "st_dir_m1 = ensure_2d(st_dir_m1)\n",
    "m1_open_np = ensure_2d(m1_open_np)\n",
    "m1_high_np = ensure_2d(m1_high_np)\n",
    "m1_low_np = ensure_2d(m1_low_np)\n",
    "m1_close_np = ensure_2d(m1_close_np)"
   ]
  },
  {
   "cell_type": "code",
   "execution_count": 11,
   "metadata": {},
   "outputs": [
    {
     "name": "stderr",
     "output_type": "stream",
     "text": [
      "Processing columns: 100%|██████████| 1/1 [00:01<00:00,  1.13s/it]\n"
     ]
    }
   ],
   "source": [
    "#################### Clean Signals Call ############################\n",
    "\n",
    "for col in tqdm(range(m1_open_np.shape[1]), desc='Processing columns'): \n",
    "    \n",
    "    long_entry, \\\n",
    "    long_exit, \\\n",
    "    short_entry, \\\n",
    "    short_exit = clean_signals_nb(m1_high_np, m1_low_np, m1_open_np, st_dir_m1)"
   ]
  },
  {
   "cell_type": "code",
   "execution_count": 12,
   "metadata": {},
   "outputs": [],
   "source": [
    "######################### Portfolio Wrapper #########################\n",
    "\n",
    "pf = vbt.Portfolio.from_signals(\n",
    "    close=m1_close,\n",
    "    entries=long_entry,\n",
    "    exits=long_exit,\n",
    "    short_entries=short_entry,\n",
    "    short_exits=short_exit,\n",
    "    fees=0.00005,\n",
    "    slippage=0.0000269,\n",
    "    init_cash=15000,\n",
    "    freq='1m',\n",
    "    orders_cls=vbt.FSOrders\n",
    ")"
   ]
  },
  {
   "cell_type": "code",
   "execution_count": 21,
   "metadata": {},
   "outputs": [
    {
     "data": {
      "text/plain": [
       "Close    0.795918\n",
       "Name: win_rate, dtype: float64"
      ]
     },
     "execution_count": 21,
     "metadata": {},
     "output_type": "execute_result"
    }
   ],
   "source": [
    "pf.trades.win_rate # Return as Objective"
   ]
  },
  {
   "cell_type": "code",
   "execution_count": 14,
   "metadata": {},
   "outputs": [
    {
     "data": {
      "text/plain": [
       "Start                         2022-12-29 08:46:00+00:00\n",
       "End                           2023-07-13 06:59:00+00:00\n",
       "Period                                195 days 22:14:00\n",
       "Start Value                                     15000.0\n",
       "Min Value                                  14965.582623\n",
       "Max Value                                  27312.805092\n",
       "End Value                                   27308.88573\n",
       "Total Return [%]                              82.059238\n",
       "Benchmark Return [%]                           4.846233\n",
       "Total Time Exposure [%]                       93.806489\n",
       "Max Gross Exposure [%]                       100.459205\n",
       "Max Drawdown [%]                               0.824219\n",
       "Max Drawdown Duration                   4 days 16:32:00\n",
       "Total Orders                                        196\n",
       "Total Fees Paid                              405.901219\n",
       "Total Trades                                        196\n",
       "Win Rate [%]                                  79.487179\n",
       "Best Trade [%]                                  2.12069\n",
       "Worst Trade [%]                               -0.244556\n",
       "Avg Winning Trade [%]                          0.401017\n",
       "Avg Losing Trade [%]                          -0.082419\n",
       "Avg Winning Trade Duration    1 days 01:22:03.870967741\n",
       "Avg Losing Trade Duration               0 days 11:01:30\n",
       "Profit Factor                                   18.5833\n",
       "Expectancy                                    61.321673\n",
       "Sharpe Ratio                                   14.40961\n",
       "Calmar Ratio                                 249.114173\n",
       "Omega Ratio                                    1.081314\n",
       "Sortino Ratio                                 21.769273\n",
       "Name: agg_stats, dtype: object"
      ]
     },
     "execution_count": 14,
     "metadata": {},
     "output_type": "execute_result"
    }
   ],
   "source": [
    "pf.stats()"
   ]
  },
  {
   "cell_type": "code",
   "execution_count": 15,
   "metadata": {},
   "outputs": [],
   "source": [
    "    # SuperTrend\n",
    "    st_long_df = pd.Series(st_long_m1, index=m1_open.index)\n",
    "    st_short_df = pd.Series(st_short_m1, index=m1_open.index)\n",
    "    \n",
    "    long_entry_df = pd.DataFrame(long_entry, index=m1_open.index, columns=['EURUSD'])\n",
    "    long_exit_df = pd.DataFrame(long_exit, index=m1_open.index, columns=['EURUSD'])\n",
    "    short_entry_df = pd.DataFrame(short_entry, index=m1_open.index, columns=['EURUSD'])\n",
    "    short_exit_df = pd.DataFrame(short_exit, index=m1_open.index, columns=['EURUSD'])\n",
    "    \n",
    "    "
   ]
  },
  {
   "cell_type": "code",
   "execution_count": 16,
   "metadata": {},
   "outputs": [
    {
     "data": {
      "text/plain": [
       "'temp-plot.html'"
      ]
     },
     "execution_count": 16,
     "metadata": {},
     "output_type": "execute_result"
    }
   ],
   "source": [
    "symbol = \"EURUSD\"\n",
    "index = \"EURUSD\" # Backtest index\n",
    "start_date = \"2023-05-23 00:00:00+00:00\"\n",
    "end_date = \"2023-05-26 23:59:00+00:00\"\n",
    "\n",
    "# Create a DataFrame with OHLC data\n",
    "filtered_data = pd.DataFrame({\n",
    "    'open': m1_open.loc[start_date:end_date],\n",
    "    'high': m1_high.loc[start_date:end_date],\n",
    "    'low': m1_low.loc[start_date:end_date],\n",
    "    'close': m1_close.loc[start_date:end_date]\n",
    "})\n",
    "\n",
    "# Create a candlestick chart\n",
    "fig = go.Figure(data=[go.Candlestick(x=filtered_data.index,\n",
    "                open=filtered_data['open'],\n",
    "                high=filtered_data['high'],\n",
    "                low=filtered_data['low'],\n",
    "                close=filtered_data['close'])])\n",
    "\n",
    "pf.orders.loc[start_date:end_date].plot(plot_close=False, fig=fig)\n",
    "\n",
    "# Update layout\n",
    "fig.update_layout(\n",
    "    xaxis_rangeslider_visible=False,\n",
    "    dragmode='zoom'\n",
    ")\n",
    "\n",
    "# Calculate offset as a fraction of the y-axis range\n",
    "y_range = filtered_data.max() - filtered_data.min()\n",
    "offset_fraction = 0.01  # 5% offset\n",
    "offset_value = y_range * offset_fraction\n",
    "\n",
    "fig.add_trace(\n",
    "    go.Scatter(\n",
    "        x=st_long_df.loc[start_date:end_date].index,\n",
    "        y=st_long_df.loc[start_date:end_date].values,\n",
    "        mode='lines',\n",
    "        name='long supertrend',\n",
    "        line=dict(color='limegreen', width=1)\n",
    "    )\n",
    ")\n",
    "fig.add_trace(\n",
    "    go.Scatter(\n",
    "        x=st_short_df.loc[start_date:end_date].index,\n",
    "        y=st_short_df.loc[start_date:end_date].values,\n",
    "        mode='lines',\n",
    "        name='short supertrend',\n",
    "        line=dict(color='orange', width=1)\n",
    "    )\n",
    ")\n",
    "\n",
    "long_entry_df[index].loc[start_date:end_date].vbt.signals.plot_as_markers(\n",
    "    y=m1_close.loc[start_date:end_date].values,\n",
    "    trace_kwargs=dict(marker=dict(symbol=\"triangle-up\", color=\"limegreen\", size=10), name='long entry'),\n",
    "    fig=fig\n",
    ")\n",
    "long_exit_df[index].loc[start_date:end_date].vbt.signals.plot_as_markers(\n",
    "    y=m1_close.loc[start_date:end_date].values,\n",
    "    trace_kwargs=dict(marker=dict(symbol=\"triangle-down\", color=\"red\", size=10), name='long exit'),\n",
    "    fig=fig\n",
    ")\n",
    "\n",
    "# Change the theme to dark\n",
    "fig.update_layout(\n",
    "    width=1800,\n",
    "    height=950,\n",
    "    template='plotly_dark')\n",
    "\n",
    "# Show the figure\n",
    "offline.plot(fig)"
   ]
  }
 ],
 "metadata": {
  "kernelspec": {
   "display_name": "vectorbtpro_env",
   "language": "python",
   "name": "python3"
  },
  "language_info": {
   "codemirror_mode": {
    "name": "ipython",
    "version": 3
   },
   "file_extension": ".py",
   "mimetype": "text/x-python",
   "name": "python",
   "nbconvert_exporter": "python",
   "pygments_lexer": "ipython3",
   "version": "3.10.11"
  },
  "orig_nbformat": 4
 },
 "nbformat": 4,
 "nbformat_minor": 2
}
